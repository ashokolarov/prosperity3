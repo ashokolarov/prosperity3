{
 "cells": [
  {
   "cell_type": "code",
   "execution_count": 6,
   "metadata": {},
   "outputs": [],
   "source": [
    "import pandas as pd\n",
    "import numpy as np\n",
    "import matplotlib.pyplot as plt\n",
    "import os\n",
    "import sys\n",
    "sys.path.append(os.path.abspath('..'))\n",
    "\n",
    "\n",
    "from log_processing import process_log, from_csv"
   ]
  },
  {
   "cell_type": "code",
   "execution_count": 8,
   "metadata": {},
   "outputs": [],
   "source": [
    "round = 1\n",
    "day = 2\n",
    "\n",
    "activities, trades = from_csv(round, day, dir=\"../../data\")"
   ]
  },
  {
   "cell_type": "code",
   "execution_count": 11,
   "metadata": {},
   "outputs": [],
   "source": [
    "PRODUCT = \"KELP\"\n",
    "\n",
    "activities = activities[activities[\"product\"] == PRODUCT]\n",
    "trades = trades[trades[\"symbol\"] == PRODUCT]"
   ]
  },
  {
   "cell_type": "code",
   "execution_count": 16,
   "metadata": {},
   "outputs": [],
   "source": [
    "bb = activities[\"bid_price_1\"]\n",
    "ba = activities[\"ask_price_1\"]\n",
    "mid = (bb + ba) / 2\n",
    "\n",
    "returns = mid.diff()"
   ]
  },
  {
   "cell_type": "code",
   "execution_count": 22,
   "metadata": {},
   "outputs": [
    {
     "data": {
      "text/plain": [
       "<Axes: >"
      ]
     },
     "execution_count": 22,
     "metadata": {},
     "output_type": "execute_result"
    },
    {
     "data": {
      "image/png": "[encoded data removed]",
      "text/plain": [
       "<Figure size 640x480 with 1 Axes>"
      ]
     },
     "metadata": {},
     "output_type": "display_data"
    }
   ],
   "source": [
    "ba.diff().hist(bins=100)"
   ]
  },
  {
   "cell_type": "code",
   "execution_count": null,
   "metadata": {},
   "outputs": [],
   "source": []
  },
  {
   "cell_type": "code",
   "execution_count": null,
   "metadata": {},
   "outputs": [],
   "source": []
  },
  {
   "cell_type": "code",
   "execution_count": null,
   "metadata": {},
   "outputs": [],
   "source": [
    "# Convert to pandas Series if it's not already\n",
    "price_series = pd.Series(price)\n",
    "\n",
    "window_short = 10\n",
    "window_long = 20\n",
    "\n",
    "# Calculate Simple Moving Averages with different window sizes\n",
    "sma_short = price_series.rolling(window=window_short).mean()\n",
    "sma_long = price_series.rolling(window=window_long).mean()\n",
    "\n",
    "\n",
    "# Create signals based on SMA crossovers\n",
    "signals = pd.DataFrame(index=price_series.index)\n",
    "\n",
    "signals['price'] = price_series\n",
    "signals['short_ma'] = sma_short\n",
    "signals['long_ma'] = sma_long\n",
    "signals['signal'] = 0.0\n",
    "\n",
    "# Create buy/sell signals when short MA crosses long MA\n",
    "signals['signal'][window_short:] = np.where(signals['short_ma'][window_short:] > signals['long_ma'][window_short:], 1.0, 0.0)\n",
    "signals['positions'] = signals['signal'].diff()\n",
    "\n",
    "# Plot signals\n",
    "plt.figure(figsize=(16, 8))\n",
    "plt.plot(price_series, label='Price', alpha=0.5)\n",
    "plt.plot(signals['short_ma'], label='Short MA')\n",
    "plt.plot(signals['long_ma'], label='Long MA')\n",
    "\n",
    "# Plot buy signals\n",
    "plt.plot(signals.loc[signals['positions'] == 1.0].index, \n",
    "         signals.loc[signals['positions'] == 1.0]['short_ma'],\n",
    "         '^', markersize=10, color='g', label='Buy Signal')\n",
    "\n",
    "# Plot sell signals\n",
    "plt.plot(signals.loc[signals['positions'] == -1.0].index, \n",
    "         signals.loc[signals['positions'] == -1.0]['short_ma'],\n",
    "         'v', markersize=10, color='r', label='Sell Signal')\n",
    "\n",
    "plt.legend()\n",
    "plt.title('Moving Average Crossover Signals')\n",
    "plt.xlabel('Time')\n",
    "plt.xlim([0, 400])\n",
    "plt.ylabel('Price')\n",
    "plt.grid(True, alpha=0.3)\n",
    "plt.show()\n"
   ]
  }
 ],
 "metadata": {
  "kernelspec": {
   "display_name": "quant",
   "language": "python",
   "name": "python3"
  },
  "language_info": {
   "codemirror_mode": {
    "name": "ipython",
    "version": 3
   },
   "file_extension": ".py",
   "mimetype": "text/x-python",
   "name": "python",
   "nbconvert_exporter": "python",
   "pygments_lexer": "ipython3",
   "version": "3.13.2"
  }
 },
 "nbformat": 4,
 "nbformat_minor": 2
}
