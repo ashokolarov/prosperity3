{
 "cells": [
  {
   "cell_type": "code",
   "execution_count": 1,
   "metadata": {},
   "outputs": [],
   "source": [
    "import pandas as pd\n",
    "\n",
    "from log_processing import process_log\n"
   ]
  },
  {
   "cell_type": "code",
   "execution_count": 2,
   "metadata": {},
   "outputs": [],
   "source": [
    "log_file = \"../backtests/newest.log\"\n",
    "\n",
    "trader_data, products_data, activities, trades = process_log(log_file)"
   ]
  },
  {
   "cell_type": "code",
   "execution_count": 6,
   "metadata": {},
   "outputs": [
    {
     "data": {
      "text/plain": [
       "0       [[-1, 10002], [15, 9997], [-15, 10003]]\n",
       "1                    [[15, 9997], [-15, 10003]]\n",
       "2                    [[15, 9996], [-15, 10004]]\n",
       "3                    [[15, 9997], [-15, 10003]]\n",
       "4                    [[15, 9997], [-15, 10003]]\n",
       "                         ...                   \n",
       "1995    [[-1, 10002], [15, 9997], [-15, 10003]]\n",
       "1996                 [[15, 9997], [-15, 10001]]\n",
       "1997                 [[15, 9999], [-15, 10003]]\n",
       "1998                 [[15, 9996], [-15, 10000]]\n",
       "1999                 [[15, 9997], [-15, 10003]]\n",
       "Name: orders, Length: 2000, dtype: object"
      ]
     },
     "execution_count": 6,
     "metadata": {},
     "output_type": "execute_result"
    }
   ],
   "source": [
    "products_data[\"RAINFOREST_RESIN\"][\"orders\"]"
   ]
  },
  {
   "cell_type": "code",
   "execution_count": null,
   "metadata": {},
   "outputs": [],
   "source": []
  }
 ],
 "metadata": {
  "kernelspec": {
   "display_name": "quant",
   "language": "python",
   "name": "python3"
  },
  "language_info": {
   "codemirror_mode": {
    "name": "ipython",
    "version": 3
   },
   "file_extension": ".py",
   "mimetype": "text/x-python",
   "name": "python",
   "nbconvert_exporter": "python",
   "pygments_lexer": "ipython3",
   "version": "3.13.2"
  }
 },
 "nbformat": 4,
 "nbformat_minor": 2
}
