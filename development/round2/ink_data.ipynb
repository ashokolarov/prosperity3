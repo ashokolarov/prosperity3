{
 "cells": [
  {
   "cell_type": "code",
   "execution_count": 19,
   "metadata": {},
   "outputs": [],
   "source": [
    "import pandas as pd\n",
    "import numpy as np\n",
    "import matplotlib.pyplot as plt\n",
    "import os\n",
    "import sys\n",
    "sys.path.append(os.path.abspath('..'))\n",
    "\n",
    "\n",
    "from log_processing import process_log"
   ]
  },
  {
   "cell_type": "code",
   "execution_count": 20,
   "metadata": {},
   "outputs": [],
   "source": [
    "log_file = \"../../backtests/test.log\"\n",
    "trader_data, products_data, activities, trades = process_log(log_file)"
   ]
  },
  {
   "cell_type": "code",
   "execution_count": 21,
   "metadata": {},
   "outputs": [
    {
     "data": {
      "text/html": [
       "<div>\n",
       "<style scoped>\n",
       "    .dataframe tbody tr th:only-of-type {\n",
       "        vertical-align: middle;\n",
       "    }\n",
       "\n",
       "    .dataframe tbody tr th {\n",
       "        vertical-align: top;\n",
       "    }\n",
       "\n",
       "    .dataframe thead th {\n",
       "        text-align: right;\n",
       "    }\n",
       "</style>\n",
       "<table border=\"1\" class=\"dataframe\">\n",
       "  <thead>\n",
       "    <tr style=\"text-align: right;\">\n",
       "      <th></th>\n",
       "      <th>product</th>\n",
       "      <th>orders</th>\n",
       "      <th>timestamp</th>\n",
       "      <th>position</th>\n",
       "      <th>fair_value</th>\n",
       "      <th>long_mean</th>\n",
       "      <th>short_mean</th>\n",
       "      <th>std</th>\n",
       "      <th>z_score</th>\n",
       "      <th>trail_change_pct</th>\n",
       "      <th>max_profit_price</th>\n",
       "    </tr>\n",
       "  </thead>\n",
       "  <tbody>\n",
       "    <tr>\n",
       "      <th>8200</th>\n",
       "      <td>SQUID_INK</td>\n",
       "      <td>[[-25, 1830]]</td>\n",
       "      <td>820000</td>\n",
       "      <td>50</td>\n",
       "      <td>1832.0</td>\n",
       "      <td>1938.831</td>\n",
       "      <td>1923.88571</td>\n",
       "      <td>11.3208</td>\n",
       "      <td>1.32016</td>\n",
       "      <td>-0.06099</td>\n",
       "      <td>NaN</td>\n",
       "    </tr>\n",
       "  </tbody>\n",
       "</table>\n",
       "</div>"
      ],
      "text/plain": [
       "        product         orders  timestamp  position  fair_value  long_mean  \\\n",
       "8200  SQUID_INK  [[-25, 1830]]     820000        50      1832.0   1938.831   \n",
       "\n",
       "      short_mean      std  z_score  trail_change_pct  max_profit_price  \n",
       "8200  1923.88571  11.3208  1.32016          -0.06099               NaN  "
      ]
     },
     "execution_count": 21,
     "metadata": {},
     "output_type": "execute_result"
    }
   ],
   "source": [
    "# Recorded data\n",
    "ink = products_data['SQUID_INK']\n",
    "activities = activities[activities['product'] == 'SQUID_INK']\n",
    "ink[ink[\"timestamp\"] == 820000]"
   ]
  },
  {
   "cell_type": "code",
   "execution_count": null,
   "metadata": {},
   "outputs": [],
   "source": []
  }
 ],
 "metadata": {
  "kernelspec": {
   "display_name": "quant",
   "language": "python",
   "name": "python3"
  },
  "language_info": {
   "codemirror_mode": {
    "name": "ipython",
    "version": 3
   },
   "file_extension": ".py",
   "mimetype": "text/x-python",
   "name": "python",
   "nbconvert_exporter": "python",
   "pygments_lexer": "ipython3",
   "version": "3.13.2"
  }
 },
 "nbformat": 4,
 "nbformat_minor": 2
}
