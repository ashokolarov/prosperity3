{
 "cells": [
  {
   "cell_type": "code",
   "execution_count": null,
   "metadata": {},
   "outputs": [],
   "source": [
    "import numpy as np"
   ]
  },
  {
   "cell_type": "code",
   "execution_count": 9,
   "metadata": {},
   "outputs": [],
   "source": [
    "names = ['Snowball', 'Pizzas', 'Si Nugget', 'Seashells']\n",
    "\n",
    "rates_mat = np.array([\n",
    "    #Snowball, Pizzas, Si Nugget, Seashells\n",
    "   [1,         1.45,   0.52,      0.72],    # Snowball\n",
    "   [0.7,       1,      0.31,      0.48],    # Pizzas\n",
    "   [1.95,      3.1,    1,         1.49],    # Si Nugget\n",
    "   [1.34,      1.98,   0.64,      1]        # Seashells\n",
    "   ])"
   ]
  },
  {
   "cell_type": "code",
   "execution_count": 18,
   "metadata": {},
   "outputs": [],
   "source": [
    "paths = []\n",
    "returns = []\n",
    "rpaths = []\n",
    "idx_SS = 3\n",
    "\n",
    "for i, name in enumerate(names):\n",
    "    for j, name2 in enumerate(names):\n",
    "        for k, name3 in enumerate(names):\n",
    "            for l, name4 in enumerate(names):\n",
    "                path = [name, name2, name3, name4]\n",
    "                rpath = [str(rates_mat[idx_SS, i]), str(rates_mat[i, j]), str(rates_mat[j, k]), str(rates_mat[k, l]), str(rates_mat[l, idx_SS])]\n",
    "                rpaths.append(rpath)\n",
    "                pnl = rates_mat[idx_SS, i] * rates_mat[i, j] * rates_mat[j, k] * rates_mat[k, l] * rates_mat[l, idx_SS]\n",
    "                paths.append(path)\n",
    "                returns.append(pnl)\n",
    "\n",
    "\n",
    "            \n"
   ]
  },
  {
   "cell_type": "code",
   "execution_count": 19,
   "metadata": {},
   "outputs": [
    {
     "name": "stdout",
     "output_type": "stream",
     "text": [
      "Max path: ['Snowball', 'Si Nugget', 'Pizzas', 'Snowball']\n",
      "Max return: 1.08868032\n",
      "Max rates: ['1.34', '0.52', '3.1', '0.7', '0.72']\n"
     ]
    }
   ],
   "source": [
    "idx_max = np.argmax(returns)\n",
    "max_path = paths[idx_max]\n",
    "max_return = returns[idx_max]\n",
    "max_rpath = rpaths[idx_max]\n",
    "print(\"Max path:\", max_path)\n",
    "print(\"Max return:\", max_return)\n",
    "print(\"Max rates:\", max_rpath)"
   ]
  },
  {
   "cell_type": "code",
   "execution_count": 21,
   "metadata": {},
   "outputs": [
    {
     "name": "stdout",
     "output_type": "stream",
     "text": [
      "Path: ['Snowball', 'Si Nugget', 'Pizzas', 'Snowball']\n",
      "Return: 1.08868032\n",
      "Rates: ['1.34', '0.52', '3.1', '0.7', '0.72']\n",
      "\n",
      "Path: ['Si Nugget', 'Pizzas', 'Snowball', 'Si Nugget']\n",
      "Return: 1.07604224\n",
      "Rates: ['0.64', '3.1', '0.7', '0.52', '1.49']\n",
      "\n",
      "Path: ['Pizzas', 'Pizzas', 'Snowball', 'Si Nugget']\n",
      "Return: 1.0738728\n",
      "Rates: ['1.98', '1.0', '0.7', '0.52', '1.49']\n",
      "\n",
      "Path: ['Pizzas', 'Snowball', 'Snowball', 'Si Nugget']\n",
      "Return: 1.0738728\n",
      "Rates: ['1.98', '0.7', '1.0', '0.52', '1.49']\n",
      "\n",
      "Path: ['Pizzas', 'Snowball', 'Si Nugget', 'Si Nugget']\n",
      "Return: 1.0738728\n",
      "Rates: ['1.98', '0.7', '0.52', '1.0', '1.49']\n",
      "\n",
      "Path: ['Pizzas', 'Snowball', 'Si Nugget', 'Seashells']\n",
      "Return: 1.0738728\n",
      "Rates: ['1.98', '0.7', '0.52', '1.49', '1.0']\n",
      "\n",
      "Path: ['Seashells', 'Pizzas', 'Snowball', 'Si Nugget']\n",
      "Return: 1.0738728\n",
      "Rates: ['1.0', '1.98', '0.7', '0.52', '1.49']\n",
      "\n",
      "Path: ['Pizzas', 'Snowball', 'Si Nugget', 'Pizzas']\n",
      "Return: 1.07243136\n",
      "Rates: ['1.98', '0.7', '0.52', '3.1', '0.48']\n",
      "\n",
      "Path: ['Snowball', 'Pizzas', 'Snowball', 'Si Nugget']\n",
      "Return: 1.05380548\n",
      "Rates: ['1.34', '1.45', '0.7', '0.52', '1.49']\n",
      "\n",
      "Path: ['Snowball', 'Si Nugget', 'Snowball', 'Si Nugget']\n",
      "Return: 1.0527672480000003\n",
      "Rates: ['1.34', '0.52', '1.95', '0.52', '1.49']\n",
      "\n"
     ]
    }
   ],
   "source": [
    "# arrange returns in descending order\n",
    "sorted_idx = np.argsort(returns)[::-1]\n",
    "sorted_paths = [paths[i] for i in sorted_idx]\n",
    "sorted_returns = [returns[i] for i in sorted_idx]\n",
    "sorted_rpaths = [rpaths[i] for i in sorted_idx]\n",
    "for i in range(10):\n",
    "    print(\"Path:\", sorted_paths[i])\n",
    "    print(\"Return:\", sorted_returns[i])\n",
    "    print(\"Rates:\", sorted_rpaths[i])\n",
    "    print()\n"
   ]
  },
  {
   "cell_type": "code",
   "execution_count": null,
   "metadata": {},
   "outputs": [],
   "source": []
  }
 ],
 "metadata": {
  "kernelspec": {
   "display_name": ".venv",
   "language": "python",
   "name": "python3"
  },
  "language_info": {
   "codemirror_mode": {
    "name": "ipython",
    "version": 3
   },
   "file_extension": ".py",
   "mimetype": "text/x-python",
   "name": "python",
   "nbconvert_exporter": "python",
   "pygments_lexer": "ipython3",
   "version": "3.12.0"
  }
 },
 "nbformat": 4,
 "nbformat_minor": 2
}
